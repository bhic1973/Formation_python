{
 "cells": [
  {
   "cell_type": "markdown",
   "id": "5b989568",
   "metadata": {},
   "source": [
    "# Enseignement des Fonctions sous Python\n",
    "Ce notebook couvre les bases des fonctions en Python, ainsi que des concepts avancés comme les fonctions d'ordre supérieur, et propose des exemples pratiques, des exercices, et des illustrations."
   ]
  },
  {
   "cell_type": "markdown",
   "id": "62d85ca2",
   "metadata": {},
   "source": [
    "## Introduction aux fonctions\n",
    "Une **fonction** est un bloc de code réutilisable conçu pour effectuer une tâche spécifique. Les avantages de l'utilisation des fonctions incluent :\n",
    "- **Réutilisabilité** : Éviter la répétition de code.\n",
    "- **Lisibilité** : Faciliter la lecture et la compréhension du programme.\n",
    "- **Modularité** : Diviser un problème complexe en sous-problèmes plus simples.\n",
    "- **Maintenance** : Faciliter les modifications ou améliorations du code.\n"
   ]
  },
  {
   "cell_type": "markdown",
   "id": "0da8de7c",
   "metadata": {},
   "source": [
    "## Créer une fonction\n",
    "### Syntaxe de base\n",
    "```python\n",
    "def nom_de_fonction(paramètres):\n",
    "    # Docstring\n",
    "    \"\"\"\n",
    "    What function do\n",
    "\n",
    "    args:\n",
    "        type: args description\n",
    "\n",
    "    Returns:\n",
    "        type: returned item description\n",
    "    \"\"\"\n",
    "    # Bloc de code\n",
    "    \n",
    "    return vals\n",
    "```\n",
    "### Exemple simple"
   ]
  },
  {
   "cell_type": "code",
   "execution_count": 6,
   "id": "7c594c04",
   "metadata": {},
   "outputs": [
    {
     "name": "stdout",
     "output_type": "stream",
     "text": [
      "Bonjour Hicham!\n"
     ]
    }
   ],
   "source": [
    "def greeting(nom):\n",
    "    \"\"\"\n",
    "    greeting is a function that make a greeting expression to a person \n",
    "    given its name\n",
    "\n",
    "    args:\n",
    "        str: name of the person that will be greeted\n",
    "\n",
    "    Returns:\n",
    "        str: Greeting expression\n",
    "    \"\"\"\n",
    "    return f'Bonjour {nom}!'\n",
    "\n",
    "message = greeting('Hicham')\n",
    "print(message)"
   ]
  },
  {
   "cell_type": "markdown",
   "id": "2f50719d-a911-4f31-8db5-7b6f5f388efd",
   "metadata": {},
   "source": [
    "### Exemple avancé"
   ]
  },
  {
   "cell_type": "code",
   "execution_count": 7,
   "id": "75823d74-bb04-4fc9-b02b-a1b7eb7cb5f8",
   "metadata": {},
   "outputs": [
    {
     "name": "stdout",
     "output_type": "stream",
     "text": [
      "Current name is: aa\n"
     ]
    },
    {
     "name": "stdin",
     "output_type": "stream",
     "text": [
      "Plz tape 'P' for present after this message:  \n"
     ]
    },
    {
     "name": "stdout",
     "output_type": "stream",
     "text": [
      "Current name is: ab\n"
     ]
    },
    {
     "name": "stdin",
     "output_type": "stream",
     "text": [
      "Plz tape 'P' for present after this message:  \n"
     ]
    },
    {
     "name": "stdout",
     "output_type": "stream",
     "text": [
      "Current name is: ac\n"
     ]
    },
    {
     "name": "stdin",
     "output_type": "stream",
     "text": [
      "Plz tape 'P' for present after this message:  \n"
     ]
    },
    {
     "name": "stdout",
     "output_type": "stream",
     "text": [
      "Current name is: ad\n"
     ]
    },
    {
     "name": "stdin",
     "output_type": "stream",
     "text": [
      "Plz tape 'P' for present after this message:  \n"
     ]
    },
    {
     "name": "stdout",
     "output_type": "stream",
     "text": [
      "Current name is: ae\n"
     ]
    },
    {
     "name": "stdin",
     "output_type": "stream",
     "text": [
      "Plz tape 'P' for present after this message:  \n"
     ]
    },
    {
     "data": {
      "text/plain": [
       "[]"
      ]
     },
     "execution_count": 7,
     "metadata": {},
     "output_type": "execute_result"
    }
   ],
   "source": [
    "def taking_attendance(list_cls: tuple, presence=[]):\n",
    "    '''\n",
    "    taking_attendance is a function without parameters and return a list of present student\n",
    "\n",
    "    args:\n",
    "        tuple: classroom\n",
    "        list: Empty presence list \n",
    "\n",
    "    Returns:\n",
    "        list: present student\n",
    "    '''\n",
    "    for name in list_cls:\n",
    "        print(f\"Current name is: {name}\") \n",
    "        presence_state = input(\"Plz tape 'P' for present after this message: \") == 'P'\n",
    "        if presence_state:\n",
    "            presence.append(name)\n",
    "    return presence\n",
    "    \n",
    "list_cls = ['aa','ab','ac','ad','ae']\n",
    "taking_attendance(list_cls)"
   ]
  },
  {
   "cell_type": "markdown",
   "id": "7009ad34-08ab-4c1b-b007-fec53a7c18bd",
   "metadata": {},
   "source": [
    "### Exercices\n",
    "1. Ecrire une fonction qui prend comme arguments le nom d'un objet et sa couleur et retourne une paire associant l'objet à sa couleur.\n",
    "2. Ecrire le code d'une fonction qui prend comme argument un nombre, vérifie s'il s'agit d'un nombre calcule et retourne son inverse.\n",
    "3. Écrire une function ˋprint_my_nameˋ qui ne prend aucun argument accomplie sa tache et ne retourne aucune valeur\n",
    "\n",
    "> NB: Tester le code de chaque fonction."
   ]
  },
  {
   "cell_type": "markdown",
   "id": "a6db7a59-6d96-4c5c-beca-e854f0c692f1",
   "metadata": {},
   "source": [
    "#### Portée des fonctions dans Python\n",
    "Lorsque vous faites appel a une fonction dans Python, ce dernier lui reserve en memoire un espace dédié isolé du reste de l'espace memoire géré par votre programme. De cette manière votre fonction arrive à executer son propre code avec ses propres objets et variables"
   ]
  },
  {
   "cell_type": "markdown",
   "id": "d5c32e38-388a-48ba-b81d-e60a8f35eba9",
   "metadata": {},
   "source": [
    "#### Exemple de portée des fonctions (scope)\n",
    "```python\n",
    "\n",
    "def main():\n",
    "    # Define a function that add one to five\n",
    "    def add_one_to_five():\n",
    "        '''\n",
    "        Function documentation\n",
    "        '''\n",
    "        n = 5 # Local variable\n",
    "        n += 1\n",
    "        print(n)\n",
    "    \n",
    "    n = 5 # global variable\n",
    "    add_one_to_five()\n",
    "    print(n)\n",
    "\n",
    "if __name__ == '__main__':\n",
    "    main()\n",
    "```"
   ]
  },
  {
   "cell_type": "markdown",
   "id": "a1d42c7a-3090-45d4-a572-b2904d1ea23e",
   "metadata": {},
   "source": [
    "### Passage de paramètres\n",
    "- **Paramètres et arguments :**\n",
    "Sous Python, lorsqu'on déclare une fonction manipulant des paramètres ses derniers ne sont associés à aucune valeur tant qu'on n'a pas fait appel à la fonction à l'intérieur de notre programme. Une fois c'est fait on dit que la fonction lors de son appel va prendre des arguments dont le nombre et les valeurs doivent etre adéquat avec le nombre et le type de paramètres utilisés lors de la déclaration."
   ]
  },
  {
   "cell_type": "markdown",
   "id": "5f0fc32d-c192-4a11-95e5-a0b12ea4ac7e",
   "metadata": {},
   "source": [
    "#### Exemples\n",
    "```python\n",
    "from typing import Tuple\n",
    "def add_sub(n:int,m:int)->Tuple[int,int]:\n",
    "    '''\n",
    "    add_sub is a function that return the sum and difference or two integers\n",
    "\n",
    "    args:\n",
    "        int (n): First number\n",
    "        int (m): Second number\n",
    "    \n",
    "    Returns:\n",
    "        int: The sum of the n and m\n",
    "        int: The difference of the n and m\n",
    "    '''\n",
    "    add = n + m\n",
    "    sub = n - m\n",
    "    return (add,sub)\n",
    "```"
   ]
  },
  {
   "cell_type": "markdown",
   "id": "f3073506-0d38-48af-b61f-56727d644487",
   "metadata": {},
   "source": [
    "#### Pratiquons un peu\n",
    "\n",
    "Completez le code de la fonction ci dessous:\n",
    "```python\n",
    "def guessed_card(number, suit, bet):    \n",
    "    money_won = 0    \n",
    "    guessed = False    \n",
    "    if number == 8 and suit == \"hearts\":        \n",
    "        money_won = 10*bet        \n",
    "        guessed = True    \n",
    "    else:        \n",
    "        money_won = bet/10    \n",
    "    # write one line to return two things:     \n",
    "    # how much money you won and whether you     \n",
    "    # guessed right or not\n",
    "```\n",
    "Si on execute les instructions dans l'ordre ci-dessous quelle seront les sorties de la fonction ˋprintˋ :\n",
    "\n",
    "```python\n",
    "print(guessed_card(8, 'hearts', 10))\n",
    "print(guessed_card(8, 'hearts', 10))\n",
    "guessed_card(10, 'spades', 5)\n",
    "amount, did_win = guess_card('eight', 'hearts', 80)\n",
    "print(did_win)\n",
    "print(amount)\n",
    "```\n"
   ]
  },
  {
   "cell_type": "markdown",
   "id": "9299a2dc-c2f0-4aea-8c38-28998352c895",
   "metadata": {},
   "source": [
    "Python supporte plusieurs façons de passer des arguments aux fonctions :\n",
    "- **Positionnels** : Basés sur l'ordre.\n",
    "- **Només** : Associés à un nom spécifique.\n",
    "- **Valeurs par défaut** : Fournies si aucun argument n'est passé."
   ]
  },
  {
   "cell_type": "code",
   "execution_count": 9,
   "id": "db66a01b",
   "metadata": {},
   "outputs": [
    {
     "name": "stdout",
     "output_type": "stream",
     "text": [
      "Hello Mr. Ahmed\n",
      "Hello, Marie\n",
      "Hello Miss. Marie\n"
     ]
    }
   ],
   "source": [
    "def saluer(name, age, gender='M'):\n",
    "    if gender == 'M':\n",
    "        if age > 30:\n",
    "            return f'Hello Mr. {name}'\n",
    "        else:\n",
    "            return f'Hello {name}'\n",
    "    else:\n",
    "        if age > 25:\n",
    "            return f'Hello Miss. {name}'\n",
    "        else:\n",
    "            return f'Hello, {name}'\n",
    "\n",
    "print(saluer(\"Ahmed\", 32))  # Passage des arguments en repectant l'ordre des paramètres et en utilisant les paramètres définis par défaut\n",
    "print(saluer('Marie', 22, 'female'))\n",
    "print(saluer(age=42,gender='F',name='Marie'))  # Passage des arguments només"
   ]
  },
  {
   "cell_type": "markdown",
   "id": "5897f9b6",
   "metadata": {},
   "source": [
    "## Passage de fonction comme argument à d'autre fonction\n",
    "En principe, une fonction sous Python a la possibilité de manipuler n'importe quel objet Python qui lui est passé comme argument les fonctions inclus biensur."
   ]
  },
  {
   "cell_type": "code",
   "execution_count": 1,
   "id": "5f377dda-a208-495b-9274-1ffd3652caa3",
   "metadata": {},
   "outputs": [
    {
     "data": {
      "text/plain": [
       "[3, 7, 31, 129, 403, 1003, 2127, 4021, 6979, 11343]"
      ]
     },
     "execution_count": 1,
     "metadata": {},
     "output_type": "execute_result"
    }
   ],
   "source": [
    "def func_seq(func, n):\n",
    "    return [func(k) for k in range(n)]\n",
    "\n",
    "def func(k): \n",
    "    return 2*k**4 -3*k**3 + 5* k**2 +3\n",
    "\n",
    "func_seq(func,10)"
   ]
  },
  {
   "cell_type": "markdown",
   "id": "a4cefb99-9130-4b2f-a4cb-f5524b2da6c0",
   "metadata": {},
   "source": [
    "#### Passage de paramètres sous forme de dictionnaire"
   ]
  },
  {
   "cell_type": "markdown",
   "id": "75aaf70d-8f0f-4ba6-8188-405c9b2f5013",
   "metadata": {},
   "source": [
    "```python\n",
    "def display_person_details(name, age, country):\n",
    "    \"\"\"\n",
    "    Displays details about a person.\n",
    "    \n",
    "    Args:\n",
    "        name (str): The name of the person.\n",
    "        age (int): The age of the person.\n",
    "        country (str): The country of the person.\n",
    "    \n",
    "    Returns:\n",
    "        None\n",
    "    \"\"\"\n",
    "    print(f\"Name: {name}\")\n",
    "    print(f\"Age: {age}\")\n",
    "    print(f\"Country: {country}\")\n",
    "\n",
    "# Dictionary containing the arguments\n",
    "person_details = {\n",
    "    \"name\": \"Alice\",\n",
    "    \"age\": 30,\n",
    "    \"country\": \"USA\"\n",
    "}\n",
    "\n",
    "# Passing the dictionary as arguments using **\n",
    "display_person_details(**person_details)\n",
    "```"
   ]
  },
  {
   "cell_type": "markdown",
   "id": "a89c81e7-bf30-4e66-a0e3-a362b58e506e",
   "metadata": {},
   "source": [
    "#### fonction avec Nombre d'argument inconnue\n",
    "```python\n",
    "def multiple_div(*args):\n",
    "    res = 1\n",
    "    for elem in args:\n",
    "        if elem != 0:\n",
    "            res /= elem\n",
    "        else:\n",
    "            pass\n",
    "    return res\n",
    "\n",
    "multiple_div(7,6,5,4,3,2,1,0)\n",
    "```"
   ]
  },
  {
   "cell_type": "markdown",
   "id": "6292a142-aef3-4a08-9d2e-39ff53aa04ab",
   "metadata": {},
   "source": [
    "#### Fonction comme valeur de retour"
   ]
  },
  {
   "cell_type": "markdown",
   "id": "333a631f-3296-4954-882e-d9edb9701196",
   "metadata": {},
   "source": [
    "#### Example:\n",
    "```python\n",
    "def multiplier_factory(factor):\n",
    "    \"\"\"\n",
    "    Factory function that returns a multiplier function.\n",
    "    \n",
    "    Args:\n",
    "        factor (int or float): The number to multiply by.\n",
    "    \n",
    "    Returns:\n",
    "        function: A function that multiplies its input by the given factor.\n",
    "    \"\"\"\n",
    "    def multiplier(value):\n",
    "        \"\"\"\n",
    "        Multiplies the given value by the factor.\n",
    "        \n",
    "        Args:\n",
    "            value (int or float): The value to be multiplied.\n",
    "        \n",
    "        Returns:\n",
    "            int or float: The result of multiplication.\n",
    "        \"\"\"\n",
    "        return value * factor\n",
    "\n",
    "    return multiplier\n",
    "\n",
    "# Example usage:\n",
    "# Create a function that doubles its input\n",
    "doubler = multiplier_factory(2)\n",
    "\n",
    "# Create a function that triples its input\n",
    "tripler = multiplier_factory(3)\n",
    "\n",
    "# Test the returned functions\n",
    "print(doubler(5))  # Output: 10\n",
    "print(tripler(5))  # Output: 15\n",
    "```"
   ]
  },
  {
   "cell_type": "markdown",
   "id": "a20f6346-b0c4-4dc9-b944-e5e77f45e711",
   "metadata": {
    "jp-MarkdownHeadingCollapsed": true
   },
   "source": [
    "#### Recursivité \n",
    "##### Exemple 1\n",
    "```python\n",
    "def power(base, exponent):\n",
    "    \"\"\"\n",
    "    Computes the power of a number (base^exponent) using recursion.\n",
    "    \n",
    "    Args:\n",
    "        base (int or float): The base number.\n",
    "        exponent (int): The exponent (must be non-negative).\n",
    "    \n",
    "    Returns:\n",
    "        int or float: The result of base raised to the power of exponent.\n",
    "    \"\"\"\n",
    "    if exponent == 0:  # Base case: anything raised to the power of 0 is 1\n",
    "        return 1\n",
    "    return base * power(base, exponent - 1)  # Recursive case\n",
    "\n",
    "# Example usage:\n",
    "print(power(2, 3))  # Output: 8\n",
    "print(power(5, 0))  # Output: 1\n",
    "```\n",
    "##### Exemple 2\n",
    "```python\n",
    "def directory_depth(tree):\n",
    "    \"\"\"\n",
    "    Calculates the maximum depth of a directory-like nested structure.\n",
    "    \n",
    "    Args:\n",
    "        tree (dict): A dictionary representing a directory structure.\n",
    "    \n",
    "    Returns:\n",
    "        int: The maximum depth of the directory.\n",
    "    \"\"\"\n",
    "    if not tree or not isinstance(tree, dict):  # Base case: no more nested dictionaries\n",
    "        return 0\n",
    "    return 1 + max(directory_depth(subtree) for subtree in tree.values())\n",
    "\n",
    "# Example usage:\n",
    "sample_tree = {\n",
    "    \"folder1\": {\n",
    "        \"subfolder1\": {\n",
    "            \"subsubfolder1\": {}\n",
    "        },\n",
    "        \"subfolder2\": {}\n",
    "    },\n",
    "    \"folder2\": {}\n",
    "}\n",
    "\n",
    "print(directory_depth(sample_tree))  # Output: 3\n",
    "```"
   ]
  },
  {
   "cell_type": "markdown",
   "id": "6d8a36c8",
   "metadata": {},
   "source": [
    "## Fonctions d'ordre supérieur\n",
    "Les **fonctions d'ordre supérieur** sont des fonctions qui acceptent d'autres fonctions comme arguments ou renvoient des fonctions comme résultats.\n",
    "### Exemple : `map`, `filter` et `reduce`\n"
   ]
  },
  {
   "cell_type": "code",
   "execution_count": 3,
   "id": "56a395c0",
   "metadata": {},
   "outputs": [
    {
     "name": "stdout",
     "output_type": "stream",
     "text": [
      "Carrés: [1, 4, 9, 16, 25]\n",
      "Nombres pairs: [2, 4]\n",
      "Somme de ces nombres: 15\n"
     ]
    }
   ],
   "source": [
    "from functools import reduce\n",
    "\n",
    "nombres = [1, 2, 3, 4, 5]\n",
    "carres = list(map(lambda x: x ** 2, nombres))\n",
    "pairs = list(filter(lambda x: x % 2 == 0, nombres))\n",
    "somme = reduce(lambda i,j: i+j, nombres, 0)\n",
    "\n",
    "print('Carrés:', carres)\n",
    "print('Nombres pairs:', pairs)\n",
    "print(f'Somme de ces nombres: {somme}')"
   ]
  },
  {
   "cell_type": "markdown",
   "id": "b73f847a-e339-4352-bbb1-b82e1793ae97",
   "metadata": {},
   "source": [
    "### générateurs en Python\n",
    "Un générateur en Python est une fonction spéciale qui produit une séquence de valeurs à la demande, plutôt que de calculer toutes les valeurs en même temps et de les retourner comme une liste. Les générateurs utilisent le mot-clé yield pour produire une valeur et suspendre leur exécution, ce qui permet de reprendre leur exécution ultérieurement.\n",
    "\n",
    "+ **Les avantages principaux des générateurs :**\n",
    "\n",
    "1. Efficacité mémoire : Ils ne stockent pas tous les éléments en mémoire, contrairement à une liste.\n",
    "\n",
    "2. Paresseux (lazy) : Les éléments sont générés à la demande, ce qui est utile pour les grandes séquences ou les flux infinis.\n",
    "---\n",
    "\n",
    "#### Exemple 1 : Générateur simple pour une séquence de nombres\n",
    "\n",
    "Voici un générateur qui produit une séquence de nombres de 1 à n :\n",
    "```python\n",
    "def generate_numbers(n):\n",
    "    \"\"\"\n",
    "    Génère les nombres de 1 à n inclus.\n",
    "    \"\"\"\n",
    "    for i in range(1, n + 1):\n",
    "        yield i\n",
    "\n",
    "# Utilisation :\n",
    "for number in generate_numbers(5):\n",
    "    print(number)\n",
    "\n",
    "```\n",
    "** Explications :**\n",
    "\n",
    "À chaque appel de yield, la fonction suspend son exécution et retourne une valeur.\n",
    "\n",
    "L'exécution reprend après le yield lorsque la fonction est appelée à nouveau.\n",
    "\n",
    "---\n",
    "\n",
    "#### Exemple 2 : Générateur pour une suite infinie (paresseux)\n",
    "\n",
    "Un générateur qui produit une suite infinie de nombres pairs :\n",
    "\n",
    "```python\n",
    "def even_numbers():\n",
    "    \"\"\"\n",
    "    Génère une suite infinie de nombres pairs.\n",
    "    \"\"\"\n",
    "    num = 0\n",
    "    while True:\n",
    "        yield num\n",
    "        num += 2\n",
    "\n",
    "# Utilisation :\n",
    "gen = even_numbers()\n",
    "for _ in range(5):  # Affiche les 5 premiers nombres pairs\n",
    "    print(next(gen))\n",
    "\n",
    "```\n",
    "** Explications :**\n",
    "\n",
    "Ce générateur utilise une boucle while True pour produire un flux infini.\n",
    "\n",
    "On peut récupérer les valeurs une par une avec next().\n",
    "\n",
    "---\n",
    "\n",
    "#### Exemple 3 : Générateur pour parcourir un arbre imbriqué (niveau avancé)\n",
    "\n",
    "Un générateur pour parcourir récursivement une structure imbriquée, comme une liste contenant des listes :\n",
    "\n",
    "```python\n",
    "def flatten(nested_list):\n",
    "    \"\"\"\n",
    "    Aplati une liste imbriquée en utilisant un générateur.\n",
    "    \"\"\"\n",
    "    for item in nested_list:\n",
    "        if isinstance(item, list):\n",
    "            yield from flatten(item)  # Appelle récursivement le générateur\n",
    "        else:\n",
    "            yield item\n",
    "\n",
    "# Utilisation :\n",
    "nested = [1, [2, [3, 4], 5], 6]\n",
    "for value in flatten(nested):\n",
    "    print(value)\n",
    "\n",
    "```\n",
    "** Explications :**\n",
    "\n",
    "Si un élément est une liste, le générateur se rappelle lui-même pour aplatir la sous-liste.\n",
    "\n",
    "yield from est utilisé pour simplifier le passage des valeurs du sous-générateur.\n",
    "\n",
    "---\n",
    "\n",
    "En résumé :\n",
    "\n",
    "1. Simple séquence : Générer des nombres dans une plage.\n",
    "\n",
    "2. Suite infinie : Générer un flux infini, comme les nombres pairs.\n",
    "\n",
    "3. Parcours avancé : Utilisation dans des structures récursives pour des cas complexes.\n",
    "\n",
    "\n",
    "\n",
    "Les générateurs sont puissants et permettent de manipuler efficacement des flux de données, en économisant mémoire et temps de calcul.\n",
    "\n"
   ]
  },
  {
   "cell_type": "code",
   "execution_count": null,
   "id": "3dcb0594-1bb4-4ce8-8b4a-65008d1ed29d",
   "metadata": {},
   "outputs": [],
   "source": []
  }
 ],
 "metadata": {
  "kernelspec": {
   "display_name": "Python 3 (ipykernel)",
   "language": "python",
   "name": "python3"
  },
  "language_info": {
   "codemirror_mode": {
    "name": "ipython",
    "version": 3
   },
   "file_extension": ".py",
   "mimetype": "text/x-python",
   "name": "python",
   "nbconvert_exporter": "python",
   "pygments_lexer": "ipython3",
   "version": "3.12.8"
  }
 },
 "nbformat": 4,
 "nbformat_minor": 5
}
